{
  "cells": [
    {
      "cell_type": "code",
      "execution_count": null,
      "metadata": {
        "id": "v5Jlcrg0ghs-"
      },
      "outputs": [],
      "source": [
        "import json\n",
        "from pathlib import Path\n",
        "import torch\n",
        "from torch.utils.data import DataLoader\n",
        "import time"
      ]
    },
    {
      "cell_type": "markdown",
      "metadata": {
        "id": "X55oFpqzd78h"
      },
      "source": [
        "Importing dataset"
      ]
    },
    {
      "cell_type": "code",
      "execution_count": null,
      "metadata": {
        "id": "uC-Kx4ij3T6a"
      },
      "outputs": [],
      "source": [
        "%%capture\n",
        "!pip install transformers"
      ]
    },
    {
      "cell_type": "code",
      "execution_count": null,
      "metadata": {
        "id": "6b2EMVb-fhwA"
      },
      "outputs": [],
      "source": [
        "# Give the path for train data\n",
        "path = Path('/content/dataset_train')\n",
        "\n",
        "# Open .json file\n",
        "with open(path, 'rb') as f:\n",
        "    squad_dict = json.load(f)\n",
        "texts = []\n",
        "queries = []\n",
        "answers = []\n",
        "\n",
        "# Search for each passage, its question and its answer\n",
        "for group in squad_dict['data']:\n",
        "    for passage in group['paragraphs']:\n",
        "        context = passage['context']\n",
        "        for qa in passage['qas']:\n",
        "            question = qa['question']\n",
        "            for answer in qa['answers']:\n",
        "                texts.append(context)\n",
        "                queries.append(question)\n",
        "                answers.append(answer)\n",
        "\n",
        "train_texts, train_queries, train_answers = texts, queries, answers"
      ]
    },
    {
      "cell_type": "code",
      "source": [
        "print(train_texts[0:5])"
      ],
      "metadata": {
        "colab": {
          "base_uri": "https://localhost:8080/"
        },
        "id": "v2hSA6cgFbmI",
        "outputId": "0f3be162-8ec8-4cff-8b53-cac2ccaf8ab4"
      },
      "execution_count": null,
      "outputs": [
        {
          "output_type": "stream",
          "name": "stdout",
          "text": [
            "['রোমান প্রজাতন্ত্র লাতিন: রেজ পাবলিকা রোমানা; ধ্রুপদী লাতিন: ːː ˈː.ɪ. ːˈː. ছিল প্রাচীন রোমান সভ্যতার সময়কাল যা রোমান রাজ্যের উত্থানের মধ্য দিয়ে শুরু হয়েছিল, তিহ্যগতভাবে খ্রিস্টপূর্ব ৫০৯ অবধি, এবং শেষ হয়েছিল  খ্রিস্টপূর্ব ২ ২৭ রোমান সাম্রাজ্য প্রতিষ্ঠার সাথে। এই সময়কালেই রোমের নিয়ন্ত্রণ শহরের তাত্ক্ষণিক আশেপাশের অঞ্চল থেকে সমগ্র ভূমধ্যসাগরীয় অঞ্চলে আধিপত্য বিস্তার করে। এর অস্তিত্বের প্রথম দুটি শতাব্দীতে রোমান প্রজাতন্ত্রের বিজয় এবং জোটের সংমিশ্রণের মধ্য দিয়ে মধ্য ইতালি থেকে পুরো ইতালীয় উপদ্বীপে প্রসারিত হয়েছিল। পরবর্তী শতাব্দীর মধ্যে এটি উত্তর আফ্রিকা, স্পেন এবং বর্তমানে দক্ষিণ ফ্রান্স যা অন্তর্ভুক্ত করেছিল। এর দুই শতাব্দী পরে, খ্রিস্টপূর্ব প্রথম শতাব্দীর শেষের দিকে, এর মধ্যে আধুনিক ফ্রান্স, গ্রিস এবং পূর্ব ভূমধ্যসাগরীয় অংশের বেশিরভাগ অংশ অন্তর্ভুক্ত ছিল। এই সময়ের মধ্যে, অভ্যন্তরীণ উত্তেজনা একের পর এক গৃহযুদ্ধের দিকে পরিচালিত করেছিল, যার পরিণতি জুলিয়াস সিজারের হত্যার সাথে ঘটেছিল, যা প্রজাতন্ত্র থেকে সাম্রাজ্যের দিকে উত্তরণের দিকে পরিচালিত করেছিল। পরিবর্তনের সঠিক তারিখ ব্যাখ্যার বিষয় হতে পারে। তিহাসিকরা বিভিন্নভাবে জুলাইস সিজারের রুবিকান নদী পার হওয়ার ৪৯ বিসি পূর্বে প্রস্তাব করেছিলেন, খৃস্টপূর্ব ৪৪ খ্রিস্টাব্দে সিজারের আজীবন একনায়ক হিসাবে নিয়োগ এবং খ্রিস্টপূর্ব ৩১ খ্রিস্টাব্দে অ্যাকটিয়ামের যুদ্ধে মার্ক অ্যান্টনি এবং ক্লিওপেট্রার পরাজয়ের প্রস্তাব। তবে, বেশিরভাগ একই তারিখটি প্রাচীন রোমানরা যেমন করেছিলেন তেমনি ব্যবহার করেছেন, রোমান সিনেটের অক্টাভিয়ানকে অসাধারণ ক্ষমতা প্রদান এবং তিনি ২  খ্রিস্টপূর্বাব্দে অগাস্টাস উপাধি গ্রহণ করেছিলেন, এটি প্রজাতন্ত্রের সমাপ্তির সংজ্ঞা হিসাবে সংঘটিত ঘটনা।  ', 'রোমান প্রজাতন্ত্র লাতিন: রেজ পাবলিকা রোমানা; ধ্রুপদী লাতিন: ːː ˈː.ɪ. ːˈː. ছিল প্রাচীন রোমান সভ্যতার সময়কাল যা রোমান রাজ্যের উত্থানের মধ্য দিয়ে শুরু হয়েছিল, তিহ্যগতভাবে খ্রিস্টপূর্ব ৫০৯ অবধি, এবং শেষ হয়েছিল  খ্রিস্টপূর্ব ২ ২৭ রোমান সাম্রাজ্য প্রতিষ্ঠার সাথে। এই সময়কালেই রোমের নিয়ন্ত্রণ শহরের তাত্ক্ষণিক আশেপাশের অঞ্চল থেকে সমগ্র ভূমধ্যসাগরীয় অঞ্চলে আধিপত্য বিস্তার করে। এর অস্তিত্বের প্রথম দুটি শতাব্দীতে রোমান প্রজাতন্ত্রের বিজয় এবং জোটের সংমিশ্রণের মধ্য দিয়ে মধ্য ইতালি থেকে পুরো ইতালীয় উপদ্বীপে প্রসারিত হয়েছিল। পরবর্তী শতাব্দীর মধ্যে এটি উত্তর আফ্রিকা, স্পেন এবং বর্তমানে দক্ষিণ ফ্রান্স যা অন্তর্ভুক্ত করেছিল। এর দুই শতাব্দী পরে, খ্রিস্টপূর্ব প্রথম শতাব্দীর শেষের দিকে, এর মধ্যে আধুনিক ফ্রান্স, গ্রিস এবং পূর্ব ভূমধ্যসাগরীয় অংশের বেশিরভাগ অংশ অন্তর্ভুক্ত ছিল। এই সময়ের মধ্যে, অভ্যন্তরীণ উত্তেজনা একের পর এক গৃহযুদ্ধের দিকে পরিচালিত করেছিল, যার পরিণতি জুলিয়াস সিজারের হত্যার সাথে ঘটেছিল, যা প্রজাতন্ত্র থেকে সাম্রাজ্যের দিকে উত্তরণের দিকে পরিচালিত করেছিল। পরিবর্তনের সঠিক তারিখ ব্যাখ্যার বিষয় হতে পারে। তিহাসিকরা বিভিন্নভাবে জুলাইস সিজারের রুবিকান নদী পার হওয়ার ৪৯ বিসি পূর্বে প্রস্তাব করেছিলেন, খৃস্টপূর্ব ৪৪ খ্রিস্টাব্দে সিজারের আজীবন একনায়ক হিসাবে নিয়োগ এবং খ্রিস্টপূর্ব ৩১ খ্রিস্টাব্দে অ্যাকটিয়ামের যুদ্ধে মার্ক অ্যান্টনি এবং ক্লিওপেট্রার পরাজয়ের প্রস্তাব। তবে, বেশিরভাগ একই তারিখটি প্রাচীন রোমানরা যেমন করেছিলেন তেমনি ব্যবহার করেছেন, রোমান সিনেটের অক্টাভিয়ানকে অসাধারণ ক্ষমতা প্রদান এবং তিনি ২  খ্রিস্টপূর্বাব্দে অগাস্টাস উপাধি গ্রহণ করেছিলেন, এটি প্রজাতন্ত্রের সমাপ্তির সংজ্ঞা হিসাবে সংঘটিত ঘটনা।  ', 'রোমান প্রজাতন্ত্র লাতিন: রেজ পাবলিকা রোমানা; ধ্রুপদী লাতিন: ːː ˈː.ɪ. ːˈː. ছিল প্রাচীন রোমান সভ্যতার সময়কাল যা রোমান রাজ্যের উত্থানের মধ্য দিয়ে শুরু হয়েছিল, তিহ্যগতভাবে খ্রিস্টপূর্ব ৫০৯ অবধি, এবং শেষ হয়েছিল  খ্রিস্টপূর্ব ২ ২৭ রোমান সাম্রাজ্য প্রতিষ্ঠার সাথে। এই সময়কালেই রোমের নিয়ন্ত্রণ শহরের তাত্ক্ষণিক আশেপাশের অঞ্চল থেকে সমগ্র ভূমধ্যসাগরীয় অঞ্চলে আধিপত্য বিস্তার করে। এর অস্তিত্বের প্রথম দুটি শতাব্দীতে রোমান প্রজাতন্ত্রের বিজয় এবং জোটের সংমিশ্রণের মধ্য দিয়ে মধ্য ইতালি থেকে পুরো ইতালীয় উপদ্বীপে প্রসারিত হয়েছিল। পরবর্তী শতাব্দীর মধ্যে এটি উত্তর আফ্রিকা, স্পেন এবং বর্তমানে দক্ষিণ ফ্রান্স যা অন্তর্ভুক্ত করেছিল। এর দুই শতাব্দী পরে, খ্রিস্টপূর্ব প্রথম শতাব্দীর শেষের দিকে, এর মধ্যে আধুনিক ফ্রান্স, গ্রিস এবং পূর্ব ভূমধ্যসাগরীয় অংশের বেশিরভাগ অংশ অন্তর্ভুক্ত ছিল। এই সময়ের মধ্যে, অভ্যন্তরীণ উত্তেজনা একের পর এক গৃহযুদ্ধের দিকে পরিচালিত করেছিল, যার পরিণতি জুলিয়াস সিজারের হত্যার সাথে ঘটেছিল, যা প্রজাতন্ত্র থেকে সাম্রাজ্যের দিকে উত্তরণের দিকে পরিচালিত করেছিল। পরিবর্তনের সঠিক তারিখ ব্যাখ্যার বিষয় হতে পারে। তিহাসিকরা বিভিন্নভাবে জুলাইস সিজারের রুবিকান নদী পার হওয়ার ৪৯ বিসি পূর্বে প্রস্তাব করেছিলেন, খৃস্টপূর্ব ৪৪ খ্রিস্টাব্দে সিজারের আজীবন একনায়ক হিসাবে নিয়োগ এবং খ্রিস্টপূর্ব ৩১ খ্রিস্টাব্দে অ্যাকটিয়ামের যুদ্ধে মার্ক অ্যান্টনি এবং ক্লিওপেট্রার পরাজয়ের প্রস্তাব। তবে, বেশিরভাগ একই তারিখটি প্রাচীন রোমানরা যেমন করেছিলেন তেমনি ব্যবহার করেছেন, রোমান সিনেটের অক্টাভিয়ানকে অসাধারণ ক্ষমতা প্রদান এবং তিনি ২  খ্রিস্টপূর্বাব্দে অগাস্টাস উপাধি গ্রহণ করেছিলেন, এটি প্রজাতন্ত্রের সমাপ্তির সংজ্ঞা হিসাবে সংঘটিত ঘটনা।  ', 'রোমান প্রজাতন্ত্র লাতিন: রেজ পাবলিকা রোমানা; ধ্রুপদী লাতিন: ːː ˈː.ɪ. ːˈː. ছিল প্রাচীন রোমান সভ্যতার সময়কাল যা রোমান রাজ্যের উত্থানের মধ্য দিয়ে শুরু হয়েছিল, তিহ্যগতভাবে খ্রিস্টপূর্ব ৫০৯ অবধি, এবং শেষ হয়েছিল  খ্রিস্টপূর্ব ২ ২৭ রোমান সাম্রাজ্য প্রতিষ্ঠার সাথে। এই সময়কালেই রোমের নিয়ন্ত্রণ শহরের তাত্ক্ষণিক আশেপাশের অঞ্চল থেকে সমগ্র ভূমধ্যসাগরীয় অঞ্চলে আধিপত্য বিস্তার করে। এর অস্তিত্বের প্রথম দুটি শতাব্দীতে রোমান প্রজাতন্ত্রের বিজয় এবং জোটের সংমিশ্রণের মধ্য দিয়ে মধ্য ইতালি থেকে পুরো ইতালীয় উপদ্বীপে প্রসারিত হয়েছিল। পরবর্তী শতাব্দীর মধ্যে এটি উত্তর আফ্রিকা, স্পেন এবং বর্তমানে দক্ষিণ ফ্রান্স যা অন্তর্ভুক্ত করেছিল। এর দুই শতাব্দী পরে, খ্রিস্টপূর্ব প্রথম শতাব্দীর শেষের দিকে, এর মধ্যে আধুনিক ফ্রান্স, গ্রিস এবং পূর্ব ভূমধ্যসাগরীয় অংশের বেশিরভাগ অংশ অন্তর্ভুক্ত ছিল। এই সময়ের মধ্যে, অভ্যন্তরীণ উত্তেজনা একের পর এক গৃহযুদ্ধের দিকে পরিচালিত করেছিল, যার পরিণতি জুলিয়াস সিজারের হত্যার সাথে ঘটেছিল, যা প্রজাতন্ত্র থেকে সাম্রাজ্যের দিকে উত্তরণের দিকে পরিচালিত করেছিল। পরিবর্তনের সঠিক তারিখ ব্যাখ্যার বিষয় হতে পারে। তিহাসিকরা বিভিন্নভাবে জুলাইস সিজারের রুবিকান নদী পার হওয়ার ৪৯ বিসি পূর্বে প্রস্তাব করেছিলেন, খৃস্টপূর্ব ৪৪ খ্রিস্টাব্দে সিজারের আজীবন একনায়ক হিসাবে নিয়োগ এবং খ্রিস্টপূর্ব ৩১ খ্রিস্টাব্দে অ্যাকটিয়ামের যুদ্ধে মার্ক অ্যান্টনি এবং ক্লিওপেট্রার পরাজয়ের প্রস্তাব। তবে, বেশিরভাগ একই তারিখটি প্রাচীন রোমানরা যেমন করেছিলেন তেমনি ব্যবহার করেছেন, রোমান সিনেটের অক্টাভিয়ানকে অসাধারণ ক্ষমতা প্রদান এবং তিনি ২  খ্রিস্টপূর্বাব্দে অগাস্টাস উপাধি গ্রহণ করেছিলেন, এটি প্রজাতন্ত্রের সমাপ্তির সংজ্ঞা হিসাবে সংঘটিত ঘটনা।  ', 'রোমান প্রজাতন্ত্র লাতিন: রেজ পাবলিকা রোমানা; ধ্রুপদী লাতিন: ːː ˈː.ɪ. ːˈː. ছিল প্রাচীন রোমান সভ্যতার সময়কাল যা রোমান রাজ্যের উত্থানের মধ্য দিয়ে শুরু হয়েছিল, তিহ্যগতভাবে খ্রিস্টপূর্ব ৫০৯ অবধি, এবং শেষ হয়েছিল  খ্রিস্টপূর্ব ২ ২৭ রোমান সাম্রাজ্য প্রতিষ্ঠার সাথে। এই সময়কালেই রোমের নিয়ন্ত্রণ শহরের তাত্ক্ষণিক আশেপাশের অঞ্চল থেকে সমগ্র ভূমধ্যসাগরীয় অঞ্চলে আধিপত্য বিস্তার করে। এর অস্তিত্বের প্রথম দুটি শতাব্দীতে রোমান প্রজাতন্ত্রের বিজয় এবং জোটের সংমিশ্রণের মধ্য দিয়ে মধ্য ইতালি থেকে পুরো ইতালীয় উপদ্বীপে প্রসারিত হয়েছিল। পরবর্তী শতাব্দীর মধ্যে এটি উত্তর আফ্রিকা, স্পেন এবং বর্তমানে দক্ষিণ ফ্রান্স যা অন্তর্ভুক্ত করেছিল। এর দুই শতাব্দী পরে, খ্রিস্টপূর্ব প্রথম শতাব্দীর শেষের দিকে, এর মধ্যে আধুনিক ফ্রান্স, গ্রিস এবং পূর্ব ভূমধ্যসাগরীয় অংশের বেশিরভাগ অংশ অন্তর্ভুক্ত ছিল। এই সময়ের মধ্যে, অভ্যন্তরীণ উত্তেজনা একের পর এক গৃহযুদ্ধের দিকে পরিচালিত করেছিল, যার পরিণতি জুলিয়াস সিজারের হত্যার সাথে ঘটেছিল, যা প্রজাতন্ত্র থেকে সাম্রাজ্যের দিকে উত্তরণের দিকে পরিচালিত করেছিল। পরিবর্তনের সঠিক তারিখ ব্যাখ্যার বিষয় হতে পারে। তিহাসিকরা বিভিন্নভাবে জুলাইস সিজারের রুবিকান নদী পার হওয়ার ৪৯ বিসি পূর্বে প্রস্তাব করেছিলেন, খৃস্টপূর্ব ৪৪ খ্রিস্টাব্দে সিজারের আজীবন একনায়ক হিসাবে নিয়োগ এবং খ্রিস্টপূর্ব ৩১ খ্রিস্টাব্দে অ্যাকটিয়ামের যুদ্ধে মার্ক অ্যান্টনি এবং ক্লিওপেট্রার পরাজয়ের প্রস্তাব। তবে, বেশিরভাগ একই তারিখটি প্রাচীন রোমানরা যেমন করেছিলেন তেমনি ব্যবহার করেছেন, রোমান সিনেটের অক্টাভিয়ানকে অসাধারণ ক্ষমতা প্রদান এবং তিনি ২  খ্রিস্টপূর্বাব্দে অগাস্টাস উপাধি গ্রহণ করেছিলেন, এটি প্রজাতন্ত্রের সমাপ্তির সংজ্ঞা হিসাবে সংঘটিত ঘটনা।  ']\n"
          ]
        }
      ]
    },
    {
      "cell_type": "code",
      "execution_count": null,
      "metadata": {
        "id": "_JPP5Daci2V8"
      },
      "outputs": [],
      "source": [
        "# Give the path for validation data\n",
        "path = Path('/content/dataset_valid')\n",
        "\n",
        "# Open .json file\n",
        "with open(path, 'rb') as f:\n",
        "    squad_dict = json.load(f)\n",
        "\n",
        "texts = []\n",
        "queries = []\n",
        "answers = []\n",
        "\n",
        "for group in squad_dict['data']:\n",
        "    for passage in group['paragraphs']:\n",
        "        context = passage['context']\n",
        "        for qa in passage['qas']:\n",
        "            question = qa['question']\n",
        "            for answer in qa['answers']:\n",
        "                texts.append(context)\n",
        "                queries.append(question)\n",
        "                answers.append(answer)\n",
        "\n",
        "val_texts, val_queries, val_answers = texts, queries, answers"
      ]
    },
    {
      "cell_type": "code",
      "execution_count": null,
      "metadata": {
        "colab": {
          "base_uri": "https://localhost:8080/"
        },
        "id": "w3f9hbvMjJ1b",
        "outputId": "43866de0-1834-4510-feba-8855175fe025"
      },
      "outputs": [
        {
          "output_type": "stream",
          "name": "stdout",
          "text": [
            "33934\n",
            "33934\n",
            "33934\n"
          ]
        }
      ],
      "source": [
        "print(len(train_texts))\n",
        "print(len(train_queries))\n",
        "print(len(train_answers))"
      ]
    },
    {
      "cell_type": "code",
      "source": [
        "print(len(val_texts))\n",
        "print(len(val_queries))\n",
        "print(len(val_answers))"
      ],
      "metadata": {
        "colab": {
          "base_uri": "https://localhost:8080/"
        },
        "id": "0zrz6E7oFUL4",
        "outputId": "3e648d89-2af6-4c74-9450-987fe1de47f6"
      },
      "execution_count": null,
      "outputs": [
        {
          "output_type": "stream",
          "name": "stdout",
          "text": [
            "7488\n",
            "7488\n",
            "7488\n"
          ]
        }
      ]
    },
    {
      "cell_type": "code",
      "execution_count": null,
      "metadata": {
        "colab": {
          "base_uri": "https://localhost:8080/"
        },
        "id": "xPrlBV3hkJSe",
        "outputId": "deeb0e8e-3d41-4c16-cab2-d826a13db29a"
      },
      "outputs": [
        {
          "output_type": "stream",
          "name": "stdout",
          "text": [
            "Passage:  নাগরিকদের দ্বারা প্রতিবছর নির্বাচিত হন এবং নিয়োগপ্রাপ্ত ম্যাজিস্ট্রেটদের সমন্বয়ে গঠিত সিনেটের পরামর্শ দিয়েছিলেন রোমান সরকারের নেতৃত্বে দুটি কনসাল। যেহেতু রোমান সমাজ আধুনিক মানদণ্ড দ্বারা অত্যন্ত শ্রেণিবদ্ধ ছিল, রোম সরকারের বিবর্তন তাত্ত্বিকদের মধ্যে লড়াই দ্বারা প্রচুর প্রভাবিত হয়েছিল, রোমের স্থল-অধিপতি অভিজাত, যিনি রোমের প্রতিষ্ঠার পূর্বসূরীর সন্ধান করেছেন এবং তাঁর পক্ষ থেকে আরও অনেক মানুষ ছিলেন নাগরিক-সাধারণের। সময়ের সাথে সাথে, প্যাট্রেসিদেরকে রোমের সর্বোচ্চ অফিসগুলিতে একচেটিয়া অধিকার প্রদান করা আইনগুলি বাতিল বা দুর্বল করা হয়েছিল এবং নেতৃস্থানীয় সুন্দরী পরিবারগুলি অভিজাত শ্রেণির পুরো সদস্য হয়ে ওঠে। প্রজাতন্ত্রের নেতারা একটি শক্তিশালী তিহ্য এবং নৈতিকতার বিকাশ করেছিলেন, যা জনসেবা ও শান্তি ও যুদ্ধের পৃষ্ঠপোষকতার প্রয়োজন, সামরিক ও রাজনৈতিক সাফল্যকে অনিচ্ছাকৃতভাবে সংযুক্ত করে। রোমের অনেক আইনী এবং আইনী কাঠামো পরে জাস্টিনিয়ান কোডে এবং পরে নেপোলিয়োনিক কোডে কোডেড এখনও আধুনিক দেশ রাষ্ট্র এবং আন্তর্জাতিক সংস্থাগুলিতে পুরো ইউরোপ এবং বিশ্বের বেশিরভাগ অংশ লক্ষ্য করা যায়।  \n",
            "Query:  সিনেটটি কী ছিল যা রোমান সরকারে গঠিত কনসালদের সমন্বয়ে পরামর্শ দিয়েছে?  \n",
            "Answer:  {'text': '১,৫০০ বিসিইউয', 'answer_start': 421}\n"
          ]
        }
      ],
      "source": [
        "print(\"Passage: \",train_texts[8])\n",
        "print(\"Query: \",train_queries[8])\n",
        "print(\"Answer: \",train_answers[1309])"
      ]
    },
    {
      "cell_type": "markdown",
      "metadata": {
        "id": "6JCAvOgalXbh"
      },
      "source": [
        "As you can see we have 20302 passages, queries and answers from the validation data"
      ]
    },
    {
      "cell_type": "code",
      "execution_count": null,
      "metadata": {
        "colab": {
          "base_uri": "https://localhost:8080/"
        },
        "id": "bMs6opQPlLBE",
        "outputId": "24cd4daf-c564-4adc-fd72-efb68872134e"
      },
      "outputs": [
        {
          "output_type": "stream",
          "name": "stdout",
          "text": [
            "7488\n",
            "7488\n",
            "7488\n"
          ]
        }
      ],
      "source": [
        "print(len(val_texts))\n",
        "print(len(val_queries))\n",
        "print(len(val_answers))"
      ]
    },
    {
      "cell_type": "code",
      "execution_count": null,
      "metadata": {
        "colab": {
          "base_uri": "https://localhost:8080/"
        },
        "id": "FBf0eNdblL_P",
        "outputId": "6a64850c-177c-4222-999c-b53b2a1f3cbf"
      },
      "outputs": [
        {
          "output_type": "stream",
          "name": "stdout",
          "text": [
            "Passage:  চার্লসটন আমেরিকা যুক্তরাষ্ট্রের দক্ষিণ ক্যারোলাইনা রাজ্যের প্রাচীনতম এবং দ্বিতীয় বৃহত্তম শহর, চার্লসটন কাউন্টির কাউন্টি আসন এবং চার্লসটন – নর্থ চার্লসটন – সামারভিলে মেট্রোপলিটন স্ট্যাটিস্টিকাল এরিয়ার প্রধান শহর  শহরটি দক্ষিণ ক্যারোলিনার উপকূলরেখার ভৌগলিক মিডপয়েন্টের ঠিক দক্ষিণে অবস্থিত এবং অ্যাশলে এবং কুপার নদীর নদীর সংগম দ্বারা গঠিত আটলান্টিক মহাসাগরের একটি খাঁটি চার্লস্টন হারবারে অবস্থিত, অথবা স্থানীয়ভাবে প্রকাশিত হয়েছে, \"যেখানে কুপার এবং অ্যাশলে রয়েছে। নদীগুলি একত্র হয়ে আটলান্টিক মহাসাগর গঠনে আসে। \"  \n",
            "Query:  চার্লসটন, দক্ষিণ ক্যারোলিনা কোন কাউন্টিতে অবস্থিত?  \n",
            "Answer:  {'text': 'চার্লসটন আমেরিকা য', 'answer_start': 0}\n"
          ]
        }
      ],
      "source": [
        "print(\"Passage: \",val_texts[0])\n",
        "print(\"Query: \",val_queries[0])\n",
        "print(\"Answer: \",val_answers[0])"
      ]
    },
    {
      "cell_type": "markdown",
      "metadata": {
        "id": "kNAThgIvq_4S"
      },
      "source": [
        "Find end position character in train data"
      ]
    },
    {
      "cell_type": "code",
      "execution_count": null,
      "metadata": {
        "id": "qlexBsEcnI77"
      },
      "outputs": [],
      "source": [
        "for answer, text in zip(train_answers, train_texts):\n",
        "    real_answer = answer['text']\n",
        "    start_idx = answer['answer_start']\n",
        "    # Get the real end index\n",
        "    end_idx = start_idx + len(real_answer)\n",
        "\n",
        "    # Deal with the problem of 1 or 2 more characters\n",
        "    if text[start_idx:end_idx] == real_answer:\n",
        "        answer['answer_end'] = end_idx\n",
        "    # When the real answer is more by one character\n",
        "    elif text[start_idx-1:end_idx-1] == real_answer:\n",
        "        answer['answer_start'] = start_idx - 1\n",
        "        answer['answer_end'] = end_idx - 1\n",
        "    # When the real answer is more by two characters\n",
        "    elif text[start_idx-2:end_idx-2] == real_answer:\n",
        "        answer['answer_start'] = start_idx - 2\n",
        "        answer['answer_end'] = end_idx - 2"
      ]
    },
    {
      "cell_type": "markdown",
      "metadata": {
        "id": "aEzbDWC1sPEn"
      },
      "source": [
        "Find end position character in validation data"
      ]
    },
    {
      "cell_type": "code",
      "execution_count": null,
      "metadata": {
        "id": "Xe2_AZszsRqr"
      },
      "outputs": [],
      "source": [
        "for answer, text in zip(val_answers, val_texts):\n",
        "    real_answer = answer['text']\n",
        "    start_idx = answer['answer_start']\n",
        "    # Get the real end index\n",
        "    end_idx = start_idx + len(real_answer)\n",
        "\n",
        "    # Deal with the problem of 1 or 2 more characters\n",
        "    if text[start_idx:end_idx] == real_answer:\n",
        "        answer['answer_end'] = end_idx\n",
        "    # When the real answer is more by one character\n",
        "    elif text[start_idx-1:end_idx-1] == real_answer:\n",
        "        answer['answer_start'] = start_idx - 1\n",
        "        answer['answer_end'] = end_idx - 1\n",
        "    # When the real answer is more by two characters\n",
        "    elif text[start_idx-2:end_idx-2] == real_answer:\n",
        "        answer['answer_start'] = start_idx - 2\n",
        "        answer['answer_end'] = end_idx - 2"
      ]
    },
    {
      "cell_type": "code",
      "execution_count": null,
      "metadata": {
        "colab": {
          "base_uri": "https://localhost:8080/",
          "height": 145,
          "referenced_widgets": [
            "52c3f28316b847f69f57dfd53de1063b",
            "d6e516492f324a228ef3bdb83856a73c",
            "4939bcb4a93a4b5a9287b3bb515c1027",
            "a49c164b78ab41c8b90ab7c2c32d8b38",
            "6de96ddce5804c2a8538cc687927743a",
            "a8361ce2b89847358a68fefc630ae5e2",
            "d768d0b22a83432685fe28b672e001ca",
            "616fb43248194abe8fe890528b1f9dcc",
            "eefdcfc236f4481ca0565fa0d1d6c0ed",
            "5cfefa7762bb49df8517017fe5faf4f7",
            "1845b8a44cb5432bb3d6f4b907869a17",
            "66c583db7aa4402e9b7c3789b41cb448",
            "cc158ce1190f468c804f991043cc4f8a",
            "561be5bc2a604b4ebd671c423f661fe2",
            "e49e9d2f7bce46aab11e453002ed7033",
            "68a39fd96a004192b6c7780c783ac4c7",
            "64a9c003f324427c8f0901d7fa878459",
            "b01b0717d41f4efda48383c1dd2553af",
            "7c4fc83804944fc6aa8862dfe931d426",
            "7d34c13029304d18a70dd879eeb9c236",
            "9c76046b772e4957b229b5a254a15bf6",
            "a7f857b60f4f47efb1eb4e4765b96e14",
            "d71aeec167f74cb9b356237c477736df",
            "62e28a8062ab4342b204f2b82dcc006d",
            "2ed6791db1914ce7ae8f57a70b6078cc",
            "070a91af5d9f4a459cbab1ac90d15b0b",
            "835430d2d66e4afabcf70aaeb52f8bd1",
            "a7d095c6941f4eeb880f7f747c77c842",
            "6f0d33ee66a1409e880c977df9efd010",
            "2004e313094a4b878375b6caa1e3eec0",
            "11fa30d1d2bf435a8877d3b9ec5d3317",
            "0196eb21e81c460abaa41cedb163a08f",
            "ef85f3435963413b9af442d6ff48fc62",
            "ec2e9897d4b0443fa9c7fc628f199d91",
            "9ef530d48d0947f6b12bd2ba72325da3",
            "f9d0f616d6374a458b168ea8b9ce8344",
            "1a464ab3eff04ed299e66b92e47fd66a",
            "8c1f28f7356241a8aa00221f1ad08887",
            "df44398bfd78477990cb5d9d88238727",
            "06e235355d2d4c759f4fdaab856176b3",
            "988499e2f7a549b58fbda475e672f8cb",
            "b78c770b298941cb9a8f9a71de7d6dd0",
            "e2da4240d4eb4e53a457d9819f478636",
            "b955e4e913be4a8082d723de9ecf64ec"
          ]
        },
        "id": "-dncUoMhtpWj",
        "outputId": "ce2da642-52a2-4202-d9ff-6d50d9620c25"
      },
      "outputs": [
        {
          "output_type": "display_data",
          "data": {
            "text/plain": [
              "tokenizer_config.json:   0%|          | 0.00/28.0 [00:00<?, ?B/s]"
            ],
            "application/vnd.jupyter.widget-view+json": {
              "version_major": 2,
              "version_minor": 0,
              "model_id": "52c3f28316b847f69f57dfd53de1063b"
            }
          },
          "metadata": {}
        },
        {
          "output_type": "display_data",
          "data": {
            "text/plain": [
              "config.json:   0%|          | 0.00/570 [00:00<?, ?B/s]"
            ],
            "application/vnd.jupyter.widget-view+json": {
              "version_major": 2,
              "version_minor": 0,
              "model_id": "66c583db7aa4402e9b7c3789b41cb448"
            }
          },
          "metadata": {}
        },
        {
          "output_type": "display_data",
          "data": {
            "text/plain": [
              "vocab.txt:   0%|          | 0.00/232k [00:00<?, ?B/s]"
            ],
            "application/vnd.jupyter.widget-view+json": {
              "version_major": 2,
              "version_minor": 0,
              "model_id": "d71aeec167f74cb9b356237c477736df"
            }
          },
          "metadata": {}
        },
        {
          "output_type": "display_data",
          "data": {
            "text/plain": [
              "tokenizer.json:   0%|          | 0.00/466k [00:00<?, ?B/s]"
            ],
            "application/vnd.jupyter.widget-view+json": {
              "version_major": 2,
              "version_minor": 0,
              "model_id": "ec2e9897d4b0443fa9c7fc628f199d91"
            }
          },
          "metadata": {}
        }
      ],
      "source": [
        "from transformers import AutoTokenizer,AdamW,BertForQuestionAnswering\n",
        "tokenizer = AutoTokenizer.from_pretrained(\"bert-base-uncased\")\n",
        "\n",
        "train_encodings = tokenizer(train_texts, train_queries, truncation=True, padding=True)\n",
        "val_encodings = tokenizer(val_texts, val_queries, truncation=True, padding=True)"
      ]
    },
    {
      "cell_type": "code",
      "execution_count": null,
      "metadata": {
        "colab": {
          "base_uri": "https://localhost:8080/"
        },
        "id": "VHDTX4HZzN3e",
        "outputId": "6d4d369c-4ff2-4624-81ab-e688dfd2603f"
      },
      "outputs": [
        {
          "output_type": "stream",
          "name": "stdout",
          "text": [
            "3412\n",
            "808\n"
          ]
        }
      ],
      "source": [
        "def add_token_positions(encodings, answers):\n",
        "  start_positions = []\n",
        "  end_positions = []\n",
        "\n",
        "  count = 0\n",
        "\n",
        "  for i in range(len(answers)):\n",
        "    start_positions.append(encodings.char_to_token(i, answers[i]['answer_start']))\n",
        "    end_positions.append(encodings.char_to_token(i, answers[i]['answer_end']))\n",
        "\n",
        "    # if start position is None, the answer passage has been truncated\n",
        "    if start_positions[-1] is None:\n",
        "      start_positions[-1] = tokenizer.model_max_length\n",
        "\n",
        "    # if end position is None, the 'char_to_token' function points to the space after the correct token, so add - 1\n",
        "    if end_positions[-1] is None:\n",
        "      end_positions[-1] = encodings.char_to_token(i, answers[i]['answer_end'] - 1)\n",
        "      # if end position is still None the answer passage has been truncated\n",
        "      if end_positions[-1] is None:\n",
        "        count += 1\n",
        "        end_positions[-1] = tokenizer.model_max_length\n",
        "\n",
        "  print(count)\n",
        "\n",
        "  # Update the data in dictionary\n",
        "  encodings.update({'start_positions': start_positions, 'end_positions': end_positions})\n",
        "\n",
        "add_token_positions(train_encodings, train_answers)\n",
        "add_token_positions(val_encodings, val_answers)"
      ]
    },
    {
      "cell_type": "code",
      "execution_count": null,
      "metadata": {
        "id": "FjYzrXas3yhy"
      },
      "outputs": [],
      "source": [
        "class SquadDataset(torch.utils.data.Dataset):\n",
        "    def __init__(self, encodings):\n",
        "        self.encodings = encodings\n",
        "\n",
        "    def __getitem__(self, idx):\n",
        "        return {key: torch.tensor(val[idx]) for key, val in self.encodings.items()}\n",
        "\n",
        "    def __len__(self):\n",
        "        return len(self.encodings.input_ids)"
      ]
    },
    {
      "cell_type": "code",
      "execution_count": null,
      "metadata": {
        "id": "fHGYpU8x8GCT"
      },
      "outputs": [],
      "source": [
        "train_dataset = SquadDataset(train_encodings)\n",
        "val_dataset = SquadDataset(val_encodings)"
      ]
    },
    {
      "cell_type": "code",
      "execution_count": null,
      "metadata": {
        "id": "XCohXB_R8HkC"
      },
      "outputs": [],
      "source": [
        "train_loader = DataLoader(train_dataset, batch_size=16, shuffle=True)\n",
        "val_loader = DataLoader(val_dataset, batch_size=16, shuffle=True)"
      ]
    },
    {
      "cell_type": "code",
      "execution_count": null,
      "metadata": {
        "id": "N12rPAE39QS0"
      },
      "outputs": [],
      "source": [
        "device = torch.device('cuda:0' if torch.cuda.is_available()\n",
        "                      else 'cpu')"
      ]
    },
    {
      "cell_type": "markdown",
      "metadata": {
        "id": "ctnv1lVt-Na_"
      },
      "source": [
        "Build model"
      ]
    },
    {
      "cell_type": "code",
      "execution_count": null,
      "metadata": {
        "colab": {
          "base_uri": "https://localhost:8080/"
        },
        "id": "unmSIjkW-ZEH",
        "outputId": "9c010e45-3be0-4369-8a3d-6dff2864c712"
      },
      "outputs": [
        {
          "output_type": "stream",
          "name": "stderr",
          "text": [
            "Some weights of BertForQuestionAnswering were not initialized from the model checkpoint at bert-base-uncased and are newly initialized: ['qa_outputs.weight', 'qa_outputs.bias']\n",
            "You should probably TRAIN this model on a down-stream task to be able to use it for predictions and inference.\n",
            "/usr/local/lib/python3.10/dist-packages/transformers/optimization.py:411: FutureWarning: This implementation of AdamW is deprecated and will be removed in a future version. Use the PyTorch implementation torch.optim.AdamW instead, or set `no_deprecation_warning=True` to disable this warning\n",
            "  warnings.warn(\n"
          ]
        }
      ],
      "source": [
        "model = BertForQuestionAnswering.from_pretrained('bert-base-uncased').to(device)\n",
        "\n",
        "optim = AdamW(model.parameters(), lr=5e-5)\n",
        "# optim = AdamW(model.parameters(), lr=3e-5)\n",
        "# optim = AdamW(model.parameters(), lr=2e-5)\n",
        "\n",
        "epochs = 3"
      ]
    },
    {
      "cell_type": "markdown",
      "metadata": {
        "id": "Qe29xEPB_DvT"
      },
      "source": [
        "## ***Step 11:*** Train and Evaluate Model"
      ]
    },
    {
      "cell_type": "markdown",
      "metadata": {
        "id": "DiDsJMN___OQ"
      },
      "source": [
        "Training of model was done exactly as in the previous projects."
      ]
    },
    {
      "cell_type": "code",
      "execution_count": null,
      "metadata": {
        "colab": {
          "base_uri": "https://localhost:8080/"
        },
        "id": "3qkwmHdB_DKI",
        "outputId": "d18b9705-ccf6-4307-ed37-a052d147e151"
      },
      "outputs": [
        {
          "output_type": "stream",
          "name": "stdout",
          "text": [
            "############Train############\n",
            "Batch 1000 / 2121 \n",
            "Loss: 4.5 \n",
            "\n",
            "Batch 2000 / 2121 \n",
            "Loss: 4.4 \n",
            "\n",
            "############Evaluate############\n",
            "\n",
            "-------Epoch  1 -------\n",
            "Training Loss: 4.567316663765446 \n",
            "Validation Loss: 4.273773305436485 \n",
            "Time:  3301.788074731827 \n",
            "----------------------- \n",
            "\n",
            "\n",
            "############Train############\n",
            "Batch 1000 / 2121 \n",
            "Loss: 4.4 \n",
            "\n",
            "Batch 2000 / 2121 \n",
            "Loss: 3.6 \n",
            "\n",
            "############Evaluate############\n",
            "\n",
            "-------Epoch  2 -------\n",
            "Training Loss: 4.197817113814294 \n",
            "Validation Loss: 3.906806163298778 \n",
            "Time:  3302.425184249878 \n",
            "----------------------- \n",
            "\n",
            "\n",
            "############Train############\n",
            "Batch 1000 / 2121 \n",
            "Loss: 3.4 \n",
            "\n",
            "Batch 2000 / 2121 \n",
            "Loss: 2.9 \n",
            "\n",
            "############Evaluate############\n",
            "\n",
            "-------Epoch  3 -------\n",
            "Training Loss: 3.6889800547654197 \n",
            "Validation Loss: 3.6472154641762757 \n",
            "Time:  3300.955411195755 \n",
            "----------------------- \n",
            "\n",
            "\n",
            "Total training and evaluation time:  9905.176273107529\n"
          ]
        }
      ],
      "source": [
        "whole_train_eval_time = time.time()\n",
        "\n",
        "train_losses = []\n",
        "val_losses = []\n",
        "\n",
        "print_every = 1000\n",
        "\n",
        "for epoch in range(epochs):\n",
        "  epoch_time = time.time()\n",
        "\n",
        "  # Set model in train mode\n",
        "  model.train()\n",
        "\n",
        "  loss_of_epoch = 0\n",
        "\n",
        "  print(\"############Train############\")\n",
        "\n",
        "  for batch_idx,batch in enumerate(train_loader):\n",
        "\n",
        "    optim.zero_grad()\n",
        "\n",
        "    input_ids = batch['input_ids'].to(device)\n",
        "    attention_mask = batch['attention_mask'].to(device)\n",
        "    start_positions = batch['start_positions'].to(device)\n",
        "    end_positions = batch['end_positions'].to(device)\n",
        "\n",
        "    outputs = model(input_ids, attention_mask=attention_mask, start_positions=start_positions, end_positions=end_positions)\n",
        "    loss = outputs[0]\n",
        "    # do a backwards pass\n",
        "    loss.backward()\n",
        "    # update the weights\n",
        "    optim.step()\n",
        "    # Find the total loss\n",
        "    loss_of_epoch += loss.item()\n",
        "\n",
        "    if (batch_idx+1) % print_every == 0:\n",
        "      print(\"Batch {:} / {:}\".format(batch_idx+1,len(train_loader)),\"\\nLoss:\", round(loss.item(),1),\"\\n\")\n",
        "\n",
        "  loss_of_epoch /= len(train_loader)\n",
        "  train_losses.append(loss_of_epoch)\n",
        "  model.eval()\n",
        "\n",
        "  print(\"############Evaluate############\")\n",
        "\n",
        "  loss_of_epoch = 0\n",
        "\n",
        "  for batch_idx,batch in enumerate(val_loader):\n",
        "\n",
        "    with torch.no_grad():\n",
        "\n",
        "      input_ids = batch['input_ids'].to(device)\n",
        "      attention_mask = batch['attention_mask'].to(device)\n",
        "      start_positions = batch['start_positions'].to(device)\n",
        "      end_positions = batch['end_positions'].to(device)\n",
        "\n",
        "      outputs = model(input_ids, attention_mask=attention_mask, start_positions=start_positions, end_positions=end_positions)\n",
        "      loss = outputs[0]\n",
        "      # Find the total loss\n",
        "      loss_of_epoch += loss.item()\n",
        "\n",
        "    if (batch_idx+1) % print_every == 0:\n",
        "       print(\"Batch {:} / {:}\".format(batch_idx+1,len(val_loader)),\"\\nLoss:\", round(loss.item(),1),\"\\n\")\n",
        "\n",
        "  loss_of_epoch /= len(val_loader)\n",
        "  val_losses.append(loss_of_epoch)\n",
        "\n",
        "  # Print each epoch's time and train/val loss\n",
        "  print(\"\\n-------Epoch \", epoch+1,\n",
        "        \"-------\"\n",
        "        \"\\nTraining Loss:\", train_losses[-1],\n",
        "        \"\\nValidation Loss:\", val_losses[-1],\n",
        "        \"\\nTime: \",(time.time() - epoch_time),\n",
        "        \"\\n-----------------------\",\n",
        "        \"\\n\\n\")\n",
        "\n",
        "print(\"Total training and evaluation time: \", (time.time() - whole_train_eval_time))"
      ]
    },
    {
      "cell_type": "code",
      "source": [
        "from google.colab import drive\n",
        "drive.mount('/content/gdrive')"
      ],
      "metadata": {
        "colab": {
          "base_uri": "https://localhost:8080/"
        },
        "id": "t6tN50g0YmRk",
        "outputId": "a075c032-d802-4c63-bb82-215942dc732b"
      },
      "execution_count": null,
      "outputs": [
        {
          "output_type": "stream",
          "name": "stdout",
          "text": [
            "Mounted at /content/gdrive\n"
          ]
        }
      ]
    },
    {
      "cell_type": "code",
      "execution_count": null,
      "metadata": {
        "id": "-p_ZgHMgR9Vq"
      },
      "outputs": [],
      "source": [
        "# Save model\n",
        "torch.save(model,\"/content/gdrive/MyDrive/Datasets/CSE437\")"
      ]
    },
    {
      "cell_type": "code",
      "execution_count": null,
      "metadata": {
        "id": "Daxw8aQMHPTV",
        "colab": {
          "base_uri": "https://localhost:8080/",
          "height": 760
        },
        "outputId": "0a0b7543-e862-4e2d-ab88-accf51828480"
      },
      "outputs": [
        {
          "output_type": "display_data",
          "data": {
            "text/plain": [
              "<Figure size 1500x1000 with 1 Axes>"
            ],
            "image/png": "[encoded data removed]"
          },
          "metadata": {}
        }
      ],
      "source": [
        "import matplotlib.pyplot as plt\n",
        "\n",
        "fig,ax = plt.subplots(1,1,figsize=(15,10))\n",
        "\n",
        "ax.set_title(\"Train and Validation Losses\",size=20)\n",
        "ax.set_ylabel('Loss', fontsize = 20)\n",
        "ax.set_xlabel('Epochs', fontsize = 25)\n",
        "_=ax.plot(train_losses)\n",
        "_=ax.plot(val_losses)\n",
        "_=ax.legend(('Train','Val'),loc='upper right')"
      ]
    }
  ],
  "metadata": {
    "accelerator": "GPU",
    "colab": {
      "provenance": [],
      "gpuType": "T4"
    },
    "kernelspec": {
      "display_name": "Python 3",
      "name": "python3"
    },
    "widgets": {
      "application/vnd.jupyter.widget-state+json": {
        "52c3f28316b847f69f57dfd53de1063b": {
          "model_module": "@jupyter-widgets/controls",
          "model_name": "HBoxModel",
          "model_module_version": "1.5.0",
          "state": {
            "_dom_classes": [],
            "_model_module": "@jupyter-widgets/controls",
            "_model_module_version": "1.5.0",
            "_model_name": "HBoxModel",
            "_view_count": null,
            "_view_module": "@jupyter-widgets/controls",
            "_view_module_version": "1.5.0",
            "_view_name": "HBoxView",
            "box_style": "",
            "children": [
              "IPY_MODEL_d6e516492f324a228ef3bdb83856a73c",
              "IPY_MODEL_4939bcb4a93a4b5a9287b3bb515c1027",
              "IPY_MODEL_a49c164b78ab41c8b90ab7c2c32d8b38"
            ],
            "layout": "IPY_MODEL_6de96ddce5804c2a8538cc687927743a"
          }
        },
        "d6e516492f324a228ef3bdb83856a73c": {
          "model_module": "@jupyter-widgets/controls",
          "model_name": "HTMLModel",
          "model_module_version": "1.5.0",
          "state": {
            "_dom_classes": [],
            "_model_module": "@jupyter-widgets/controls",
            "_model_module_version": "1.5.0",
            "_model_name": "HTMLModel",
            "_view_count": null,
            "_view_module": "@jupyter-widgets/controls",
            "_view_module_version": "1.5.0",
            "_view_name": "HTMLView",
            "description": "",
            "description_tooltip": null,
            "layout": "IPY_MODEL_a8361ce2b89847358a68fefc630ae5e2",
            "placeholder": "​",
            "style": "IPY_MODEL_d768d0b22a83432685fe28b672e001ca",
            "value": "tokenizer_config.json: 100%"
          }
        },
        "4939bcb4a93a4b5a9287b3bb515c1027": {
          "model_module": "@jupyter-widgets/controls",
          "model_name": "FloatProgressModel",
          "model_module_version": "1.5.0",
          "state": {
            "_dom_classes": [],
            "_model_module": "@jupyter-widgets/controls",
            "_model_module_version": "1.5.0",
            "_model_name": "FloatProgressModel",
            "_view_count": null,
            "_view_module": "@jupyter-widgets/controls",
            "_view_module_version": "1.5.0",
            "_view_name": "ProgressView",
            "bar_style": "success",
            "description": "",
            "description_tooltip": null,
            "layout": "IPY_MODEL_616fb43248194abe8fe890528b1f9dcc",
            "max": 28,
            "min": 0,
            "orientation": "horizontal",
            "style": "IPY_MODEL_eefdcfc236f4481ca0565fa0d1d6c0ed",
            "value": 28
          }
        },
        "a49c164b78ab41c8b90ab7c2c32d8b38": {
          "model_module": "@jupyter-widgets/controls",
          "model_name": "HTMLModel",
          "model_module_version": "1.5.0",
          "state": {
            "_dom_classes": [],
            "_model_module": "@jupyter-widgets/controls",
            "_model_module_version": "1.5.0",
            "_model_name": "HTMLModel",
            "_view_count": null,
            "_view_module": "@jupyter-widgets/controls",
            "_view_module_version": "1.5.0",
            "_view_name": "HTMLView",
            "description": "",
            "description_tooltip": null,
            "layout": "IPY_MODEL_5cfefa7762bb49df8517017fe5faf4f7",
            "placeholder": "​",
            "style": "IPY_MODEL_1845b8a44cb5432bb3d6f4b907869a17",
            "value": " 28.0/28.0 [00:00&lt;00:00, 1.46kB/s]"
          }
        },
        "6de96ddce5804c2a8538cc687927743a": {
          "model_module": "@jupyter-widgets/base",
          "model_name": "LayoutModel",
          "model_module_version": "1.2.0",
          "state": {
            "_model_module": "@jupyter-widgets/base",
            "_model_module_version": "1.2.0",
            "_model_name": "LayoutModel",
            "_view_count": null,
            "_view_module": "@jupyter-widgets/base",
            "_view_module_version": "1.2.0",
            "_view_name": "LayoutView",
            "align_content": null,
            "align_items": null,
            "align_self": null,
            "border": null,
            "bottom": null,
            "display": null,
            "flex": null,
            "flex_flow": null,
            "grid_area": null,
            "grid_auto_columns": null,
            "grid_auto_flow": null,
            "grid_auto_rows": null,
            "grid_column": null,
            "grid_gap": null,
            "grid_row": null,
            "grid_template_areas": null,
            "grid_template_columns": null,
            "grid_template_rows": null,
            "height": null,
            "justify_content": null,
            "justify_items": null,
            "left": null,
            "margin": null,
            "max_height": null,
            "max_width": null,
            "min_height": null,
            "min_width": null,
            "object_fit": null,
            "object_position": null,
            "order": null,
            "overflow": null,
            "overflow_x": null,
            "overflow_y": null,
            "padding": null,
            "right": null,
            "top": null,
            "visibility": null,
            "width": null
          }
        },
        "a8361ce2b89847358a68fefc630ae5e2": {
          "model_module": "@jupyter-widgets/base",
          "model_name": "LayoutModel",
          "model_module_version": "1.2.0",
          "state": {
            "_model_module": "@jupyter-widgets/base",
            "_model_module_version": "1.2.0",
            "_model_name": "LayoutModel",
            "_view_count": null,
            "_view_module": "@jupyter-widgets/base",
            "_view_module_version": "1.2.0",
            "_view_name": "LayoutView",
            "align_content": null,
            "align_items": null,
            "align_self": null,
            "border": null,
            "bottom": null,
            "display": null,
            "flex": null,
            "flex_flow": null,
            "grid_area": null,
            "grid_auto_columns": null,
            "grid_auto_flow": null,
            "grid_auto_rows": null,
            "grid_column": null,
            "grid_gap": null,
            "grid_row": null,
            "grid_template_areas": null,
            "grid_template_columns": null,
            "grid_template_rows": null,
            "height": null,
            "justify_content": null,
            "justify_items": null,
            "left": null,
            "margin": null,
            "max_height": null,
            "max_width": null,
            "min_height": null,
            "min_width": null,
            "object_fit": null,
            "object_position": null,
            "order": null,
            "overflow": null,
            "overflow_x": null,
            "overflow_y": null,
            "padding": null,
            "right": null,
            "top": null,
            "visibility": null,
            "width": null
          }
        },
        "d768d0b22a83432685fe28b672e001ca": {
          "model_module": "@jupyter-widgets/controls",
          "model_name": "DescriptionStyleModel",
          "model_module_version": "1.5.0",
          "state": {
            "_model_module": "@jupyter-widgets/controls",
            "_model_module_version": "1.5.0",
            "_model_name": "DescriptionStyleModel",
            "_view_count": null,
            "_view_module": "@jupyter-widgets/base",
            "_view_module_version": "1.2.0",
            "_view_name": "StyleView",
            "description_width": ""
          }
        },
        "616fb43248194abe8fe890528b1f9dcc": {
          "model_module": "@jupyter-widgets/base",
          "model_name": "LayoutModel",
          "model_module_version": "1.2.0",
          "state": {
            "_model_module": "@jupyter-widgets/base",
            "_model_module_version": "1.2.0",
            "_model_name": "LayoutModel",
            "_view_count": null,
            "_view_module": "@jupyter-widgets/base",
            "_view_module_version": "1.2.0",
            "_view_name": "LayoutView",
            "align_content": null,
            "align_items": null,
            "align_self": null,
            "border": null,
            "bottom": null,
            "display": null,
            "flex": null,
            "flex_flow": null,
            "grid_area": null,
            "grid_auto_columns": null,
            "grid_auto_flow": null,
            "grid_auto_rows": null,
            "grid_column": null,
            "grid_gap": null,
            "grid_row": null,
            "grid_template_areas": null,
            "grid_template_columns": null,
            "grid_template_rows": null,
            "height": null,
            "justify_content": null,
            "justify_items": null,
            "left": null,
            "margin": null,
            "max_height": null,
            "max_width": null,
            "min_height": null,
            "min_width": null,
            "object_fit": null,
            "object_position": null,
            "order": null,
            "overflow": null,
            "overflow_x": null,
            "overflow_y": null,
            "padding": null,
            "right": null,
            "top": null,
            "visibility": null,
            "width": null
          }
        },
        "eefdcfc236f4481ca0565fa0d1d6c0ed": {
          "model_module": "@jupyter-widgets/controls",
          "model_name": "ProgressStyleModel",
          "model_module_version": "1.5.0",
          "state": {
            "_model_module": "@jupyter-widgets/controls",
            "_model_module_version": "1.5.0",
            "_model_name": "ProgressStyleModel",
            "_view_count": null,
            "_view_module": "@jupyter-widgets/base",
            "_view_module_version": "1.2.0",
            "_view_name": "StyleView",
            "bar_color": null,
            "description_width": ""
          }
        },
        "5cfefa7762bb49df8517017fe5faf4f7": {
          "model_module": "@jupyter-widgets/base",
          "model_name": "LayoutModel",
          "model_module_version": "1.2.0",
          "state": {
            "_model_module": "@jupyter-widgets/base",
            "_model_module_version": "1.2.0",
            "_model_name": "LayoutModel",
            "_view_count": null,
            "_view_module": "@jupyter-widgets/base",
            "_view_module_version": "1.2.0",
            "_view_name": "LayoutView",
            "align_content": null,
            "align_items": null,
            "align_self": null,
            "border": null,
            "bottom": null,
            "display": null,
            "flex": null,
            "flex_flow": null,
            "grid_area": null,
            "grid_auto_columns": null,
            "grid_auto_flow": null,
            "grid_auto_rows": null,
            "grid_column": null,
            "grid_gap": null,
            "grid_row": null,
            "grid_template_areas": null,
            "grid_template_columns": null,
            "grid_template_rows": null,
            "height": null,
            "justify_content": null,
            "justify_items": null,
            "left": null,
            "margin": null,
            "max_height": null,
            "max_width": null,
            "min_height": null,
            "min_width": null,
            "object_fit": null,
            "object_position": null,
            "order": null,
            "overflow": null,
            "overflow_x": null,
            "overflow_y": null,
            "padding": null,
            "right": null,
            "top": null,
            "visibility": null,
            "width": null
          }
        },
        "1845b8a44cb5432bb3d6f4b907869a17": {
          "model_module": "@jupyter-widgets/controls",
          "model_name": "DescriptionStyleModel",
          "model_module_version": "1.5.0",
          "state": {
            "_model_module": "@jupyter-widgets/controls",
            "_model_module_version": "1.5.0",
            "_model_name": "DescriptionStyleModel",
            "_view_count": null,
            "_view_module": "@jupyter-widgets/base",
            "_view_module_version": "1.2.0",
            "_view_name": "StyleView",
            "description_width": ""
          }
        },
        "66c583db7aa4402e9b7c3789b41cb448": {
          "model_module": "@jupyter-widgets/controls",
          "model_name": "HBoxModel",
          "model_module_version": "1.5.0",
          "state": {
            "_dom_classes": [],
            "_model_module": "@jupyter-widgets/controls",
            "_model_module_version": "1.5.0",
            "_model_name": "HBoxModel",
            "_view_count": null,
            "_view_module": "@jupyter-widgets/controls",
            "_view_module_version": "1.5.0",
            "_view_name": "HBoxView",
            "box_style": "",
            "children": [
              "IPY_MODEL_cc158ce1190f468c804f991043cc4f8a",
              "IPY_MODEL_561be5bc2a604b4ebd671c423f661fe2",
              "IPY_MODEL_e49e9d2f7bce46aab11e453002ed7033"
            ],
            "layout": "IPY_MODEL_68a39fd96a004192b6c7780c783ac4c7"
          }
        },
        "cc158ce1190f468c804f991043cc4f8a": {
          "model_module": "@jupyter-widgets/controls",
          "model_name": "HTMLModel",
          "model_module_version": "1.5.0",
          "state": {
            "_dom_classes": [],
            "_model_module": "@jupyter-widgets/controls",
            "_model_module_version": "1.5.0",
            "_model_name": "HTMLModel",
            "_view_count": null,
            "_view_module": "@jupyter-widgets/controls",
            "_view_module_version": "1.5.0",
            "_view_name": "HTMLView",
            "description": "",
            "description_tooltip": null,
            "layout": "IPY_MODEL_64a9c003f324427c8f0901d7fa878459",
            "placeholder": "​",
            "style": "IPY_MODEL_b01b0717d41f4efda48383c1dd2553af",
            "value": "config.json: 100%"
          }
        },
        "561be5bc2a604b4ebd671c423f661fe2": {
          "model_module": "@jupyter-widgets/controls",
          "model_name": "FloatProgressModel",
          "model_module_version": "1.5.0",
          "state": {
            "_dom_classes": [],
            "_model_module": "@jupyter-widgets/controls",
            "_model_module_version": "1.5.0",
            "_model_name": "FloatProgressModel",
            "_view_count": null,
            "_view_module": "@jupyter-widgets/controls",
            "_view_module_version": "1.5.0",
            "_view_name": "ProgressView",
            "bar_style": "success",
            "description": "",
            "description_tooltip": null,
            "layout": "IPY_MODEL_7c4fc83804944fc6aa8862dfe931d426",
            "max": 570,
            "min": 0,
            "orientation": "horizontal",
            "style": "IPY_MODEL_7d34c13029304d18a70dd879eeb9c236",
            "value": 570
          }
        },
        "e49e9d2f7bce46aab11e453002ed7033": {
          "model_module": "@jupyter-widgets/controls",
          "model_name": "HTMLModel",
          "model_module_version": "1.5.0",
          "state": {
            "_dom_classes": [],
            "_model_module": "@jupyter-widgets/controls",
            "_model_module_version": "1.5.0",
            "_model_name": "HTMLModel",
            "_view_count": null,
            "_view_module": "@jupyter-widgets/controls",
            "_view_module_version": "1.5.0",
            "_view_name": "HTMLView",
            "description": "",
            "description_tooltip": null,
            "layout": "IPY_MODEL_9c76046b772e4957b229b5a254a15bf6",
            "placeholder": "​",
            "style": "IPY_MODEL_a7f857b60f4f47efb1eb4e4765b96e14",
            "value": " 570/570 [00:00&lt;00:00, 29.5kB/s]"
          }
        },
        "68a39fd96a004192b6c7780c783ac4c7": {
          "model_module": "@jupyter-widgets/base",
          "model_name": "LayoutModel",
          "model_module_version": "1.2.0",
          "state": {
            "_model_module": "@jupyter-widgets/base",
            "_model_module_version": "1.2.0",
            "_model_name": "LayoutModel",
            "_view_count": null,
            "_view_module": "@jupyter-widgets/base",
            "_view_module_version": "1.2.0",
            "_view_name": "LayoutView",
            "align_content": null,
            "align_items": null,
            "align_self": null,
            "border": null,
            "bottom": null,
            "display": null,
            "flex": null,
            "flex_flow": null,
            "grid_area": null,
            "grid_auto_columns": null,
            "grid_auto_flow": null,
            "grid_auto_rows": null,
            "grid_column": null,
            "grid_gap": null,
            "grid_row": null,
            "grid_template_areas": null,
            "grid_template_columns": null,
            "grid_template_rows": null,
            "height": null,
            "justify_content": null,
            "justify_items": null,
            "left": null,
            "margin": null,
            "max_height": null,
            "max_width": null,
            "min_height": null,
            "min_width": null,
            "object_fit": null,
            "object_position": null,
            "order": null,
            "overflow": null,
            "overflow_x": null,
            "overflow_y": null,
            "padding": null,
            "right": null,
            "top": null,
            "visibility": null,
            "width": null
          }
        },
        "64a9c003f324427c8f0901d7fa878459": {
          "model_module": "@jupyter-widgets/base",
          "model_name": "LayoutModel",
          "model_module_version": "1.2.0",
          "state": {
            "_model_module": "@jupyter-widgets/base",
            "_model_module_version": "1.2.0",
            "_model_name": "LayoutModel",
            "_view_count": null,
            "_view_module": "@jupyter-widgets/base",
            "_view_module_version": "1.2.0",
            "_view_name": "LayoutView",
            "align_content": null,
            "align_items": null,
            "align_self": null,
            "border": null,
            "bottom": null,
            "display": null,
            "flex": null,
            "flex_flow": null,
            "grid_area": null,
            "grid_auto_columns": null,
            "grid_auto_flow": null,
            "grid_auto_rows": null,
            "grid_column": null,
            "grid_gap": null,
            "grid_row": null,
            "grid_template_areas": null,
            "grid_template_columns": null,
            "grid_template_rows": null,
            "height": null,
            "justify_content": null,
            "justify_items": null,
            "left": null,
            "margin": null,
            "max_height": null,
            "max_width": null,
            "min_height": null,
            "min_width": null,
            "object_fit": null,
            "object_position": null,
            "order": null,
            "overflow": null,
            "overflow_x": null,
            "overflow_y": null,
            "padding": null,
            "right": null,
            "top": null,
            "visibility": null,
            "width": null
          }
        },
        "b01b0717d41f4efda48383c1dd2553af": {
          "model_module": "@jupyter-widgets/controls",
          "model_name": "DescriptionStyleModel",
          "model_module_version": "1.5.0",
          "state": {
            "_model_module": "@jupyter-widgets/controls",
            "_model_module_version": "1.5.0",
            "_model_name": "DescriptionStyleModel",
            "_view_count": null,
            "_view_module": "@jupyter-widgets/base",
            "_view_module_version": "1.2.0",
            "_view_name": "StyleView",
            "description_width": ""
          }
        },
        "7c4fc83804944fc6aa8862dfe931d426": {
          "model_module": "@jupyter-widgets/base",
          "model_name": "LayoutModel",
          "model_module_version": "1.2.0",
          "state": {
            "_model_module": "@jupyter-widgets/base",
            "_model_module_version": "1.2.0",
            "_model_name": "LayoutModel",
            "_view_count": null,
            "_view_module": "@jupyter-widgets/base",
            "_view_module_version": "1.2.0",
            "_view_name": "LayoutView",
            "align_content": null,
            "align_items": null,
            "align_self": null,
            "border": null,
            "bottom": null,
            "display": null,
            "flex": null,
            "flex_flow": null,
            "grid_area": null,
            "grid_auto_columns": null,
            "grid_auto_flow": null,
            "grid_auto_rows": null,
            "grid_column": null,
            "grid_gap": null,
            "grid_row": null,
            "grid_template_areas": null,
            "grid_template_columns": null,
            "grid_template_rows": null,
            "height": null,
            "justify_content": null,
            "justify_items": null,
            "left": null,
            "margin": null,
            "max_height": null,
            "max_width": null,
            "min_height": null,
            "min_width": null,
            "object_fit": null,
            "object_position": null,
            "order": null,
            "overflow": null,
            "overflow_x": null,
            "overflow_y": null,
            "padding": null,
            "right": null,
            "top": null,
            "visibility": null,
            "width": null
          }
        },
        "7d34c13029304d18a70dd879eeb9c236": {
          "model_module": "@jupyter-widgets/controls",
          "model_name": "ProgressStyleModel",
          "model_module_version": "1.5.0",
          "state": {
            "_model_module": "@jupyter-widgets/controls",
            "_model_module_version": "1.5.0",
            "_model_name": "ProgressStyleModel",
            "_view_count": null,
            "_view_module": "@jupyter-widgets/base",
            "_view_module_version": "1.2.0",
            "_view_name": "StyleView",
            "bar_color": null,
            "description_width": ""
          }
        },
        "9c76046b772e4957b229b5a254a15bf6": {
          "model_module": "@jupyter-widgets/base",
          "model_name": "LayoutModel",
          "model_module_version": "1.2.0",
          "state": {
            "_model_module": "@jupyter-widgets/base",
            "_model_module_version": "1.2.0",
            "_model_name": "LayoutModel",
            "_view_count": null,
            "_view_module": "@jupyter-widgets/base",
            "_view_module_version": "1.2.0",
            "_view_name": "LayoutView",
            "align_content": null,
            "align_items": null,
            "align_self": null,
            "border": null,
            "bottom": null,
            "display": null,
            "flex": null,
            "flex_flow": null,
            "grid_area": null,
            "grid_auto_columns": null,
            "grid_auto_flow": null,
            "grid_auto_rows": null,
            "grid_column": null,
            "grid_gap": null,
            "grid_row": null,
            "grid_template_areas": null,
            "grid_template_columns": null,
            "grid_template_rows": null,
            "height": null,
            "justify_content": null,
            "justify_items": null,
            "left": null,
            "margin": null,
            "max_height": null,
            "max_width": null,
            "min_height": null,
            "min_width": null,
            "object_fit": null,
            "object_position": null,
            "order": null,
            "overflow": null,
            "overflow_x": null,
            "overflow_y": null,
            "padding": null,
            "right": null,
            "top": null,
            "visibility": null,
            "width": null
          }
        },
        "a7f857b60f4f47efb1eb4e4765b96e14": {
          "model_module": "@jupyter-widgets/controls",
          "model_name": "DescriptionStyleModel",
          "model_module_version": "1.5.0",
          "state": {
            "_model_module": "@jupyter-widgets/controls",
            "_model_module_version": "1.5.0",
            "_model_name": "DescriptionStyleModel",
            "_view_count": null,
            "_view_module": "@jupyter-widgets/base",
            "_view_module_version": "1.2.0",
            "_view_name": "StyleView",
            "description_width": ""
          }
        },
        "d71aeec167f74cb9b356237c477736df": {
          "model_module": "@jupyter-widgets/controls",
          "model_name": "HBoxModel",
          "model_module_version": "1.5.0",
          "state": {
            "_dom_classes": [],
            "_model_module": "@jupyter-widgets/controls",
            "_model_module_version": "1.5.0",
            "_model_name": "HBoxModel",
            "_view_count": null,
            "_view_module": "@jupyter-widgets/controls",
            "_view_module_version": "1.5.0",
            "_view_name": "HBoxView",
            "box_style": "",
            "children": [
              "IPY_MODEL_62e28a8062ab4342b204f2b82dcc006d",
              "IPY_MODEL_2ed6791db1914ce7ae8f57a70b6078cc",
              "IPY_MODEL_070a91af5d9f4a459cbab1ac90d15b0b"
            ],
            "layout": "IPY_MODEL_835430d2d66e4afabcf70aaeb52f8bd1"
          }
        },
        "62e28a8062ab4342b204f2b82dcc006d": {
          "model_module": "@jupyter-widgets/controls",
          "model_name": "HTMLModel",
          "model_module_version": "1.5.0",
          "state": {
            "_dom_classes": [],
            "_model_module": "@jupyter-widgets/controls",
            "_model_module_version": "1.5.0",
            "_model_name": "HTMLModel",
            "_view_count": null,
            "_view_module": "@jupyter-widgets/controls",
            "_view_module_version": "1.5.0",
            "_view_name": "HTMLView",
            "description": "",
            "description_tooltip": null,
            "layout": "IPY_MODEL_a7d095c6941f4eeb880f7f747c77c842",
            "placeholder": "​",
            "style": "IPY_MODEL_6f0d33ee66a1409e880c977df9efd010",
            "value": "vocab.txt: 100%"
          }
        },
        "2ed6791db1914ce7ae8f57a70b6078cc": {
          "model_module": "@jupyter-widgets/controls",
          "model_name": "FloatProgressModel",
          "model_module_version": "1.5.0",
          "state": {
            "_dom_classes": [],
            "_model_module": "@jupyter-widgets/controls",
            "_model_module_version": "1.5.0",
            "_model_name": "FloatProgressModel",
            "_view_count": null,
            "_view_module": "@jupyter-widgets/controls",
            "_view_module_version": "1.5.0",
            "_view_name": "ProgressView",
            "bar_style": "success",
            "description": "",
            "description_tooltip": null,
            "layout": "IPY_MODEL_2004e313094a4b878375b6caa1e3eec0",
            "max": 231508,
            "min": 0,
            "orientation": "horizontal",
            "style": "IPY_MODEL_11fa30d1d2bf435a8877d3b9ec5d3317",
            "value": 231508
          }
        },
        "070a91af5d9f4a459cbab1ac90d15b0b": {
          "model_module": "@jupyter-widgets/controls",
          "model_name": "HTMLModel",
          "model_module_version": "1.5.0",
          "state": {
            "_dom_classes": [],
            "_model_module": "@jupyter-widgets/controls",
            "_model_module_version": "1.5.0",
            "_model_name": "HTMLModel",
            "_view_count": null,
            "_view_module": "@jupyter-widgets/controls",
            "_view_module_version": "1.5.0",
            "_view_name": "HTMLView",
            "description": "",
            "description_tooltip": null,
            "layout": "IPY_MODEL_0196eb21e81c460abaa41cedb163a08f",
            "placeholder": "​",
            "style": "IPY_MODEL_ef85f3435963413b9af442d6ff48fc62",
            "value": " 232k/232k [00:00&lt;00:00, 10.2MB/s]"
          }
        },
        "835430d2d66e4afabcf70aaeb52f8bd1": {
          "model_module": "@jupyter-widgets/base",
          "model_name": "LayoutModel",
          "model_module_version": "1.2.0",
          "state": {
            "_model_module": "@jupyter-widgets/base",
            "_model_module_version": "1.2.0",
            "_model_name": "LayoutModel",
            "_view_count": null,
            "_view_module": "@jupyter-widgets/base",
            "_view_module_version": "1.2.0",
            "_view_name": "LayoutView",
            "align_content": null,
            "align_items": null,
            "align_self": null,
            "border": null,
            "bottom": null,
            "display": null,
            "flex": null,
            "flex_flow": null,
            "grid_area": null,
            "grid_auto_columns": null,
            "grid_auto_flow": null,
            "grid_auto_rows": null,
            "grid_column": null,
            "grid_gap": null,
            "grid_row": null,
            "grid_template_areas": null,
            "grid_template_columns": null,
            "grid_template_rows": null,
            "height": null,
            "justify_content": null,
            "justify_items": null,
            "left": null,
            "margin": null,
            "max_height": null,
            "max_width": null,
            "min_height": null,
            "min_width": null,
            "object_fit": null,
            "object_position": null,
            "order": null,
            "overflow": null,
            "overflow_x": null,
            "overflow_y": null,
            "padding": null,
            "right": null,
            "top": null,
            "visibility": null,
            "width": null
          }
        },
        "a7d095c6941f4eeb880f7f747c77c842": {
          "model_module": "@jupyter-widgets/base",
          "model_name": "LayoutModel",
          "model_module_version": "1.2.0",
          "state": {
            "_model_module": "@jupyter-widgets/base",
            "_model_module_version": "1.2.0",
            "_model_name": "LayoutModel",
            "_view_count": null,
            "_view_module": "@jupyter-widgets/base",
            "_view_module_version": "1.2.0",
            "_view_name": "LayoutView",
            "align_content": null,
            "align_items": null,
            "align_self": null,
            "border": null,
            "bottom": null,
            "display": null,
            "flex": null,
            "flex_flow": null,
            "grid_area": null,
            "grid_auto_columns": null,
            "grid_auto_flow": null,
            "grid_auto_rows": null,
            "grid_column": null,
            "grid_gap": null,
            "grid_row": null,
            "grid_template_areas": null,
            "grid_template_columns": null,
            "grid_template_rows": null,
            "height": null,
            "justify_content": null,
            "justify_items": null,
            "left": null,
            "margin": null,
            "max_height": null,
            "max_width": null,
            "min_height": null,
            "min_width": null,
            "object_fit": null,
            "object_position": null,
            "order": null,
            "overflow": null,
            "overflow_x": null,
            "overflow_y": null,
            "padding": null,
            "right": null,
            "top": null,
            "visibility": null,
            "width": null
          }
        },
        "6f0d33ee66a1409e880c977df9efd010": {
          "model_module": "@jupyter-widgets/controls",
          "model_name": "DescriptionStyleModel",
          "model_module_version": "1.5.0",
          "state": {
            "_model_module": "@jupyter-widgets/controls",
            "_model_module_version": "1.5.0",
            "_model_name": "DescriptionStyleModel",
            "_view_count": null,
            "_view_module": "@jupyter-widgets/base",
            "_view_module_version": "1.2.0",
            "_view_name": "StyleView",
            "description_width": ""
          }
        },
        "2004e313094a4b878375b6caa1e3eec0": {
          "model_module": "@jupyter-widgets/base",
          "model_name": "LayoutModel",
          "model_module_version": "1.2.0",
          "state": {
            "_model_module": "@jupyter-widgets/base",
            "_model_module_version": "1.2.0",
            "_model_name": "LayoutModel",
            "_view_count": null,
            "_view_module": "@jupyter-widgets/base",
            "_view_module_version": "1.2.0",
            "_view_name": "LayoutView",
            "align_content": null,
            "align_items": null,
            "align_self": null,
            "border": null,
            "bottom": null,
            "display": null,
            "flex": null,
            "flex_flow": null,
            "grid_area": null,
            "grid_auto_columns": null,
            "grid_auto_flow": null,
            "grid_auto_rows": null,
            "grid_column": null,
            "grid_gap": null,
            "grid_row": null,
            "grid_template_areas": null,
            "grid_template_columns": null,
            "grid_template_rows": null,
            "height": null,
            "justify_content": null,
            "justify_items": null,
            "left": null,
            "margin": null,
            "max_height": null,
            "max_width": null,
            "min_height": null,
            "min_width": null,
            "object_fit": null,
            "object_position": null,
            "order": null,
            "overflow": null,
            "overflow_x": null,
            "overflow_y": null,
            "padding": null,
            "right": null,
            "top": null,
            "visibility": null,
            "width": null
          }
        },
        "11fa30d1d2bf435a8877d3b9ec5d3317": {
          "model_module": "@jupyter-widgets/controls",
          "model_name": "ProgressStyleModel",
          "model_module_version": "1.5.0",
          "state": {
            "_model_module": "@jupyter-widgets/controls",
            "_model_module_version": "1.5.0",
            "_model_name": "ProgressStyleModel",
            "_view_count": null,
            "_view_module": "@jupyter-widgets/base",
            "_view_module_version": "1.2.0",
            "_view_name": "StyleView",
            "bar_color": null,
            "description_width": ""
          }
        },
        "0196eb21e81c460abaa41cedb163a08f": {
          "model_module": "@jupyter-widgets/base",
          "model_name": "LayoutModel",
          "model_module_version": "1.2.0",
          "state": {
            "_model_module": "@jupyter-widgets/base",
            "_model_module_version": "1.2.0",
            "_model_name": "LayoutModel",
            "_view_count": null,
            "_view_module": "@jupyter-widgets/base",
            "_view_module_version": "1.2.0",
            "_view_name": "LayoutView",
            "align_content": null,
            "align_items": null,
            "align_self": null,
            "border": null,
            "bottom": null,
            "display": null,
            "flex": null,
            "flex_flow": null,
            "grid_area": null,
            "grid_auto_columns": null,
            "grid_auto_flow": null,
            "grid_auto_rows": null,
            "grid_column": null,
            "grid_gap": null,
            "grid_row": null,
            "grid_template_areas": null,
            "grid_template_columns": null,
            "grid_template_rows": null,
            "height": null,
            "justify_content": null,
            "justify_items": null,
            "left": null,
            "margin": null,
            "max_height": null,
            "max_width": null,
            "min_height": null,
            "min_width": null,
            "object_fit": null,
            "object_position": null,
            "order": null,
            "overflow": null,
            "overflow_x": null,
            "overflow_y": null,
            "padding": null,
            "right": null,
            "top": null,
            "visibility": null,
            "width": null
          }
        },
        "ef85f3435963413b9af442d6ff48fc62": {
          "model_module": "@jupyter-widgets/controls",
          "model_name": "DescriptionStyleModel",
          "model_module_version": "1.5.0",
          "state": {
            "_model_module": "@jupyter-widgets/controls",
            "_model_module_version": "1.5.0",
            "_model_name": "DescriptionStyleModel",
            "_view_count": null,
            "_view_module": "@jupyter-widgets/base",
            "_view_module_version": "1.2.0",
            "_view_name": "StyleView",
            "description_width": ""
          }
        },
        "ec2e9897d4b0443fa9c7fc628f199d91": {
          "model_module": "@jupyter-widgets/controls",
          "model_name": "HBoxModel",
          "model_module_version": "1.5.0",
          "state": {
            "_dom_classes": [],
            "_model_module": "@jupyter-widgets/controls",
            "_model_module_version": "1.5.0",
            "_model_name": "HBoxModel",
            "_view_count": null,
            "_view_module": "@jupyter-widgets/controls",
            "_view_module_version": "1.5.0",
            "_view_name": "HBoxView",
            "box_style": "",
            "children": [
              "IPY_MODEL_9ef530d48d0947f6b12bd2ba72325da3",
              "IPY_MODEL_f9d0f616d6374a458b168ea8b9ce8344",
              "IPY_MODEL_1a464ab3eff04ed299e66b92e47fd66a"
            ],
            "layout": "IPY_MODEL_8c1f28f7356241a8aa00221f1ad08887"
          }
        },
        "9ef530d48d0947f6b12bd2ba72325da3": {
          "model_module": "@jupyter-widgets/controls",
          "model_name": "HTMLModel",
          "model_module_version": "1.5.0",
          "state": {
            "_dom_classes": [],
            "_model_module": "@jupyter-widgets/controls",
            "_model_module_version": "1.5.0",
            "_model_name": "HTMLModel",
            "_view_count": null,
            "_view_module": "@jupyter-widgets/controls",
            "_view_module_version": "1.5.0",
            "_view_name": "HTMLView",
            "description": "",
            "description_tooltip": null,
            "layout": "IPY_MODEL_df44398bfd78477990cb5d9d88238727",
            "placeholder": "​",
            "style": "IPY_MODEL_06e235355d2d4c759f4fdaab856176b3",
            "value": "tokenizer.json: 100%"
          }
        },
        "f9d0f616d6374a458b168ea8b9ce8344": {
          "model_module": "@jupyter-widgets/controls",
          "model_name": "FloatProgressModel",
          "model_module_version": "1.5.0",
          "state": {
            "_dom_classes": [],
            "_model_module": "@jupyter-widgets/controls",
            "_model_module_version": "1.5.0",
            "_model_name": "FloatProgressModel",
            "_view_count": null,
            "_view_module": "@jupyter-widgets/controls",
            "_view_module_version": "1.5.0",
            "_view_name": "ProgressView",
            "bar_style": "success",
            "description": "",
            "description_tooltip": null,
            "layout": "IPY_MODEL_988499e2f7a549b58fbda475e672f8cb",
            "max": 466062,
            "min": 0,
            "orientation": "horizontal",
            "style": "IPY_MODEL_b78c770b298941cb9a8f9a71de7d6dd0",
            "value": 466062
          }
        },
        "1a464ab3eff04ed299e66b92e47fd66a": {
          "model_module": "@jupyter-widgets/controls",
          "model_name": "HTMLModel",
          "model_module_version": "1.5.0",
          "state": {
            "_dom_classes": [],
            "_model_module": "@jupyter-widgets/controls",
            "_model_module_version": "1.5.0",
            "_model_name": "HTMLModel",
            "_view_count": null,
            "_view_module": "@jupyter-widgets/controls",
            "_view_module_version": "1.5.0",
            "_view_name": "HTMLView",
            "description": "",
            "description_tooltip": null,
            "layout": "IPY_MODEL_e2da4240d4eb4e53a457d9819f478636",
            "placeholder": "​",
            "style": "IPY_MODEL_b955e4e913be4a8082d723de9ecf64ec",
            "value": " 466k/466k [00:00&lt;00:00, 28.8MB/s]"
          }
        },
        "8c1f28f7356241a8aa00221f1ad08887": {
          "model_module": "@jupyter-widgets/base",
          "model_name": "LayoutModel",
          "model_module_version": "1.2.0",
          "state": {
            "_model_module": "@jupyter-widgets/base",
            "_model_module_version": "1.2.0",
            "_model_name": "LayoutModel",
            "_view_count": null,
            "_view_module": "@jupyter-widgets/base",
            "_view_module_version": "1.2.0",
            "_view_name": "LayoutView",
            "align_content": null,
            "align_items": null,
            "align_self": null,
            "border": null,
            "bottom": null,
            "display": null,
            "flex": null,
            "flex_flow": null,
            "grid_area": null,
            "grid_auto_columns": null,
            "grid_auto_flow": null,
            "grid_auto_rows": null,
            "grid_column": null,
            "grid_gap": null,
            "grid_row": null,
            "grid_template_areas": null,
            "grid_template_columns": null,
            "grid_template_rows": null,
            "height": null,
            "justify_content": null,
            "justify_items": null,
            "left": null,
            "margin": null,
            "max_height": null,
            "max_width": null,
            "min_height": null,
            "min_width": null,
            "object_fit": null,
            "object_position": null,
            "order": null,
            "overflow": null,
            "overflow_x": null,
            "overflow_y": null,
            "padding": null,
            "right": null,
            "top": null,
            "visibility": null,
            "width": null
          }
        },
        "df44398bfd78477990cb5d9d88238727": {
          "model_module": "@jupyter-widgets/base",
          "model_name": "LayoutModel",
          "model_module_version": "1.2.0",
          "state": {
            "_model_module": "@jupyter-widgets/base",
            "_model_module_version": "1.2.0",
            "_model_name": "LayoutModel",
            "_view_count": null,
            "_view_module": "@jupyter-widgets/base",
            "_view_module_version": "1.2.0",
            "_view_name": "LayoutView",
            "align_content": null,
            "align_items": null,
            "align_self": null,
            "border": null,
            "bottom": null,
            "display": null,
            "flex": null,
            "flex_flow": null,
            "grid_area": null,
            "grid_auto_columns": null,
            "grid_auto_flow": null,
            "grid_auto_rows": null,
            "grid_column": null,
            "grid_gap": null,
            "grid_row": null,
            "grid_template_areas": null,
            "grid_template_columns": null,
            "grid_template_rows": null,
            "height": null,
            "justify_content": null,
            "justify_items": null,
            "left": null,
            "margin": null,
            "max_height": null,
            "max_width": null,
            "min_height": null,
            "min_width": null,
            "object_fit": null,
            "object_position": null,
            "order": null,
            "overflow": null,
            "overflow_x": null,
            "overflow_y": null,
            "padding": null,
            "right": null,
            "top": null,
            "visibility": null,
            "width": null
          }
        },
        "06e235355d2d4c759f4fdaab856176b3": {
          "model_module": "@jupyter-widgets/controls",
          "model_name": "DescriptionStyleModel",
          "model_module_version": "1.5.0",
          "state": {
            "_model_module": "@jupyter-widgets/controls",
            "_model_module_version": "1.5.0",
            "_model_name": "DescriptionStyleModel",
            "_view_count": null,
            "_view_module": "@jupyter-widgets/base",
            "_view_module_version": "1.2.0",
            "_view_name": "StyleView",
            "description_width": ""
          }
        },
        "988499e2f7a549b58fbda475e672f8cb": {
          "model_module": "@jupyter-widgets/base",
          "model_name": "LayoutModel",
          "model_module_version": "1.2.0",
          "state": {
            "_model_module": "@jupyter-widgets/base",
            "_model_module_version": "1.2.0",
            "_model_name": "LayoutModel",
            "_view_count": null,
            "_view_module": "@jupyter-widgets/base",
            "_view_module_version": "1.2.0",
            "_view_name": "LayoutView",
            "align_content": null,
            "align_items": null,
            "align_self": null,
            "border": null,
            "bottom": null,
            "display": null,
            "flex": null,
            "flex_flow": null,
            "grid_area": null,
            "grid_auto_columns": null,
            "grid_auto_flow": null,
            "grid_auto_rows": null,
            "grid_column": null,
            "grid_gap": null,
            "grid_row": null,
            "grid_template_areas": null,
            "grid_template_columns": null,
            "grid_template_rows": null,
            "height": null,
            "justify_content": null,
            "justify_items": null,
            "left": null,
            "margin": null,
            "max_height": null,
            "max_width": null,
            "min_height": null,
            "min_width": null,
            "object_fit": null,
            "object_position": null,
            "order": null,
            "overflow": null,
            "overflow_x": null,
            "overflow_y": null,
            "padding": null,
            "right": null,
            "top": null,
            "visibility": null,
            "width": null
          }
        },
        "b78c770b298941cb9a8f9a71de7d6dd0": {
          "model_module": "@jupyter-widgets/controls",
          "model_name": "ProgressStyleModel",
          "model_module_version": "1.5.0",
          "state": {
            "_model_module": "@jupyter-widgets/controls",
            "_model_module_version": "1.5.0",
            "_model_name": "ProgressStyleModel",
            "_view_count": null,
            "_view_module": "@jupyter-widgets/base",
            "_view_module_version": "1.2.0",
            "_view_name": "StyleView",
            "bar_color": null,
            "description_width": ""
          }
        },
        "e2da4240d4eb4e53a457d9819f478636": {
          "model_module": "@jupyter-widgets/base",
          "model_name": "LayoutModel",
          "model_module_version": "1.2.0",
          "state": {
            "_model_module": "@jupyter-widgets/base",
            "_model_module_version": "1.2.0",
            "_model_name": "LayoutModel",
            "_view_count": null,
            "_view_module": "@jupyter-widgets/base",
            "_view_module_version": "1.2.0",
            "_view_name": "LayoutView",
            "align_content": null,
            "align_items": null,
            "align_self": null,
            "border": null,
            "bottom": null,
            "display": null,
            "flex": null,
            "flex_flow": null,
            "grid_area": null,
            "grid_auto_columns": null,
            "grid_auto_flow": null,
            "grid_auto_rows": null,
            "grid_column": null,
            "grid_gap": null,
            "grid_row": null,
            "grid_template_areas": null,
            "grid_template_columns": null,
            "grid_template_rows": null,
            "height": null,
            "justify_content": null,
            "justify_items": null,
            "left": null,
            "margin": null,
            "max_height": null,
            "max_width": null,
            "min_height": null,
            "min_width": null,
            "object_fit": null,
            "object_position": null,
            "order": null,
            "overflow": null,
            "overflow_x": null,
            "overflow_y": null,
            "padding": null,
            "right": null,
            "top": null,
            "visibility": null,
            "width": null
          }
        },
        "b955e4e913be4a8082d723de9ecf64ec": {
          "model_module": "@jupyter-widgets/controls",
          "model_name": "DescriptionStyleModel",
          "model_module_version": "1.5.0",
          "state": {
            "_model_module": "@jupyter-widgets/controls",
            "_model_module_version": "1.5.0",
            "_model_name": "DescriptionStyleModel",
            "_view_count": null,
            "_view_module": "@jupyter-widgets/base",
            "_view_module_version": "1.2.0",
            "_view_name": "StyleView",
            "description_width": ""
          }
        }
      }
    }
  },
  "nbformat": 4,
  "nbformat_minor": 0
}